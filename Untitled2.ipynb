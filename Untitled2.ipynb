{
 "cells": [
  {
   "cell_type": "code",
   "execution_count": 308,
   "id": "a3b68b1d",
   "metadata": {
    "scrolled": true
   },
   "outputs": [],
   "source": [
    "#Dolev Sakat 312521172\n",
    "#Shir Talbi 319087698\n",
    "\n",
    "\n",
    "import requests\n",
    "import pandas as pd\n",
    "df=pd.read_csv('C:/temp/destinations_LP_crawler_Ex5.csv',encoding='latin-1')\n",
    "df_new = pd.DataFrame(df[\"city\"])\n",
    "\n",
    "li=[]\n",
    "#Fake key\n",
    "key= 'SHAIzaSyCPXCH2b5fdeQsgvtuTVbgST14F8BK8vjkIR'\n",
    "for i in range(len(df)):\n",
    "    try:\n",
    "        url = \"https://maps.googleapis.com/maps/api/geocode/json?address=%s&key=%s\" % (df.loc[i,'city'],key)\n",
    "        response = requests.get(url)\n",
    "        response = requests.get(url).json()\n",
    "        leng=len((response[\"results\"][0][\"address_components\"]))-1\n",
    "        try:\n",
    "            a=int((response[\"results\"][0][\"address_components\"][leng][\"long_name\"]).split()[0])\n",
    "            li.append(response[\"results\"][0][\"address_components\"][leng-1][\"long_name\"])\n",
    "        except:\n",
    "            li.append(response[\"results\"][0][\"address_components\"][leng][\"long_name\"])\n",
    "\n",
    "    except:\n",
    "            url = \"https://maps.googleapis.com/maps/api/geocode/json?address=%s&key=%s\" % (df.loc[i,'city_LP'],key)\n",
    "            response = requests.get(url)\n",
    "            response = requests.get(url).json()\n",
    "            leng=len((response[\"results\"][0][\"address_components\"]))-1\n",
    "            try:\n",
    "                a=int((response[\"results\"][0][\"address_components\"][leng][\"long_name\"]).split()[0])\n",
    "                li.append(response[\"results\"][0][\"address_components\"][leng-1][\"long_name\"])\n",
    "            except:\n",
    "                li.append(response[\"results\"][0][\"address_components\"][leng][\"long_name\"])\n",
    "                \n",
    "                \n",
    "\n",
    "        "
   ]
  },
  {
   "cell_type": "code",
   "execution_count": 314,
   "id": "cd207b30",
   "metadata": {
    "scrolled": true
   },
   "outputs": [],
   "source": [
    "\n",
    "#print (li)\n",
    "\n",
    "df_new['country']=li\n",
    "\n",
    "#df_new\n",
    "\n",
    "    \n",
    "    "
   ]
  },
  {
   "cell_type": "code",
   "execution_count": 315,
   "id": "2a983dce",
   "metadata": {},
   "outputs": [],
   "source": [
    "li2=[]\n",
    "import requests\n",
    "from bs4 import BeautifulSoup\n",
    "for j in range(len(df)):\n",
    "    try:\n",
    "        url2=\"https://www.lonelyplanet.com/\"+df_new.loc[j,'country']+\"/\"+df.loc[j,'city_LP']\n",
    "        html= requests.get(url2)\n",
    "        soup = BeautifulSoup(html.content,'html.parser')\n",
    "        sec=soup.find('section', {'id' : \"introduction\"})\n",
    "        #print(j, df.loc[j,'city'])\n",
    "        #print(sec.find('p').text)\n",
    "        li2.append(sec.find('p').text)\n",
    "    except:\n",
    "        url2=\"https://www.lonelyplanet.com/\"+'USA'+\"/\"+df.loc[j,'city_LP']\n",
    "        html= requests.get(url2)\n",
    "        soup = BeautifulSoup(html.content,'html.parser')\n",
    "        sec=soup.find('section', {'id' : \"introduction\"})\n",
    "        #print(sec.find('p').text)\n",
    "        li2.append(sec.find('p').text)\n",
    "\n",
    "        "
   ]
  },
  {
   "cell_type": "code",
   "execution_count": 312,
   "id": "bcf6d2af",
   "metadata": {},
   "outputs": [
    {
     "data": {
      "text/html": [
       "<div>\n",
       "<style scoped>\n",
       "    .dataframe tbody tr th:only-of-type {\n",
       "        vertical-align: middle;\n",
       "    }\n",
       "\n",
       "    .dataframe tbody tr th {\n",
       "        vertical-align: top;\n",
       "    }\n",
       "\n",
       "    .dataframe thead th {\n",
       "        text-align: right;\n",
       "    }\n",
       "</style>\n",
       "<table border=\"1\" class=\"dataframe\">\n",
       "  <thead>\n",
       "    <tr style=\"text-align: right;\">\n",
       "      <th></th>\n",
       "      <th>city</th>\n",
       "      <th>country</th>\n",
       "      <th>Description</th>\n",
       "    </tr>\n",
       "  </thead>\n",
       "  <tbody>\n",
       "    <tr>\n",
       "      <th>0</th>\n",
       "      <td>Antalya</td>\n",
       "      <td>Turkey</td>\n",
       "      <td>Once seen simply as the gateway to the Turkish...</td>\n",
       "    </tr>\n",
       "    <tr>\n",
       "      <th>1</th>\n",
       "      <td>Athens</td>\n",
       "      <td>Greece</td>\n",
       "      <td>With equal measures of grunge and grace, Athen...</td>\n",
       "    </tr>\n",
       "    <tr>\n",
       "      <th>2</th>\n",
       "      <td>Ayia-napa</td>\n",
       "      <td>Cyprus</td>\n",
       "      <td>Endless blue-sky days and a coastline riddled ...</td>\n",
       "    </tr>\n",
       "    <tr>\n",
       "      <th>3</th>\n",
       "      <td>Bangkok</td>\n",
       "      <td>Thailand</td>\n",
       "      <td>Same same, but different. This Thailish T-shir...</td>\n",
       "    </tr>\n",
       "    <tr>\n",
       "      <th>4</th>\n",
       "      <td>Barcelona</td>\n",
       "      <td>Spain</td>\n",
       "      <td>Barcelona is an enchanting seaside city with b...</td>\n",
       "    </tr>\n",
       "    <tr>\n",
       "      <th>...</th>\n",
       "      <td>...</td>\n",
       "      <td>...</td>\n",
       "      <td>...</td>\n",
       "    </tr>\n",
       "    <tr>\n",
       "      <th>71</th>\n",
       "      <td>Venice</td>\n",
       "      <td>Italy</td>\n",
       "      <td>Imagine the audacity of building a city of mar...</td>\n",
       "    </tr>\n",
       "    <tr>\n",
       "      <th>72</th>\n",
       "      <td>Vienna</td>\n",
       "      <td>Austria</td>\n",
       "      <td>Baroque streetscapes and imperial palaces set ...</td>\n",
       "    </tr>\n",
       "    <tr>\n",
       "      <th>73</th>\n",
       "      <td>Warsaw</td>\n",
       "      <td>Poland</td>\n",
       "      <td>A phoenix arisen from the ashes, Poland's capi...</td>\n",
       "    </tr>\n",
       "    <tr>\n",
       "      <th>74</th>\n",
       "      <td>Zakynthos</td>\n",
       "      <td>Greece</td>\n",
       "      <td>Zakynthos, also known by its Italian name Zant...</td>\n",
       "    </tr>\n",
       "    <tr>\n",
       "      <th>75</th>\n",
       "      <td>Zurich</td>\n",
       "      <td>Switzerland</td>\n",
       "      <td>Culturally vibrant, efficiently run and attrac...</td>\n",
       "    </tr>\n",
       "  </tbody>\n",
       "</table>\n",
       "<p>76 rows × 3 columns</p>\n",
       "</div>"
      ],
      "text/plain": [
       "         city      country                                        Description\n",
       "0     Antalya       Turkey  Once seen simply as the gateway to the Turkish...\n",
       "1      Athens       Greece  With equal measures of grunge and grace, Athen...\n",
       "2   Ayia-napa       Cyprus  Endless blue-sky days and a coastline riddled ...\n",
       "3     Bangkok     Thailand  Same same, but different. This Thailish T-shir...\n",
       "4   Barcelona        Spain  Barcelona is an enchanting seaside city with b...\n",
       "..        ...          ...                                                ...\n",
       "71     Venice        Italy  Imagine the audacity of building a city of mar...\n",
       "72     Vienna      Austria  Baroque streetscapes and imperial palaces set ...\n",
       "73     Warsaw       Poland  A phoenix arisen from the ashes, Poland's capi...\n",
       "74  Zakynthos       Greece  Zakynthos, also known by its Italian name Zant...\n",
       "75     Zurich  Switzerland  Culturally vibrant, efficiently run and attrac...\n",
       "\n",
       "[76 rows x 3 columns]"
      ]
     },
     "execution_count": 312,
     "metadata": {},
     "output_type": "execute_result"
    }
   ],
   "source": [
    "df_new['country']=li\n",
    "df_new['Description']=li2\n",
    "df_new\n",
    " "
   ]
  },
  {
   "cell_type": "code",
   "execution_count": null,
   "id": "eb3e3ac0",
   "metadata": {},
   "outputs": [],
   "source": []
  },
  {
   "cell_type": "code",
   "execution_count": 287,
   "id": "2a736539",
   "metadata": {},
   "outputs": [
    {
     "data": {
      "text/plain": [
       "'https://www.lonelyplanet.com/United States/Boston'"
      ]
     },
     "execution_count": 287,
     "metadata": {},
     "output_type": "execute_result"
    }
   ],
   "source": []
  },
  {
   "cell_type": "code",
   "execution_count": null,
   "id": "d7f7d52c",
   "metadata": {},
   "outputs": [],
   "source": []
  },
  {
   "cell_type": "code",
   "execution_count": null,
   "id": "90d6456a",
   "metadata": {},
   "outputs": [],
   "source": []
  },
  {
   "cell_type": "code",
   "execution_count": null,
   "id": "7b8f0950",
   "metadata": {},
   "outputs": [],
   "source": []
  }
 ],
 "metadata": {
  "kernelspec": {
   "display_name": "Python 3 (ipykernel)",
   "language": "python",
   "name": "python3"
  },
  "language_info": {
   "codemirror_mode": {
    "name": "ipython",
    "version": 3
   },
   "file_extension": ".py",
   "mimetype": "text/x-python",
   "name": "python",
   "nbconvert_exporter": "python",
   "pygments_lexer": "ipython3",
   "version": "3.9.7"
  }
 },
 "nbformat": 4,
 "nbformat_minor": 5
}
